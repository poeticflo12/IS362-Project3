{
 "cells": [
  {
   "cell_type": "markdown",
   "metadata": {},
   "source": [
    "# <center><font color='blue'>IS362 Project 3 Fall 2020</center><font>"
   ]
  },
  {
   "cell_type": "markdown",
   "metadata": {},
   "source": [
    "![My_Text](https://encrypted-tbn0.gstatic.com/images?q=tbn%3AANd9GcSZtgSr9JkT6mwn474na4hRPHouehtMwM94lQ&usqp=CAU) "
   ]
  },
  {
   "cell_type": "markdown",
   "metadata": {},
   "source": [
    "#### Project Tasks:\n",
    "\n",
    "1. For your database, you should download and install the appropriate version of the Chinook database for your RDBMS, which is available here, under the downloads tab: https://chinookdatabase.codeplex.com/  (Downloaded from https://github.com/lerocha/chinook-database)\n",
    "2. Your task is to create a pandas DataFrame that displays Customers’ Last Name and First Name, and each customer’s purchased Track names and Album Titles. The information should be sorted by Customer LastName then Customer FirstName."
   ]
  },
  {
   "cell_type": "code",
   "execution_count": 3,
   "metadata": {},
   "outputs": [],
   "source": [
    "import  pandas as pd\n",
    "import sqlite3"
   ]
  },
  {
   "cell_type": "code",
   "execution_count": 4,
   "metadata": {},
   "outputs": [
    {
     "ename": "SyntaxError",
     "evalue": "(unicode error) 'unicodeescape' codec can't decode bytes in position 2-3: truncated \\UXXXXXXXX escape (<ipython-input-4-869c43d66727>, line 1)",
     "output_type": "error",
     "traceback": [
      "\u001b[1;36m  File \u001b[1;32m\"<ipython-input-4-869c43d66727>\"\u001b[1;36m, line \u001b[1;32m1\u001b[0m\n\u001b[1;33m    con = sqlite3.connect('C:\\Users\\MATTHEWS-PC\\Desktop\\IS362-Project3\\Chinook_Sqlite.sqlite')\u001b[0m\n\u001b[1;37m                          ^\u001b[0m\n\u001b[1;31mSyntaxError\u001b[0m\u001b[1;31m:\u001b[0m (unicode error) 'unicodeescape' codec can't decode bytes in position 2-3: truncated \\UXXXXXXXX escape\n"
     ]
    }
   ],
   "source": [
    "con = sqlite3.connect('C:\\Users\\MATTHEWS-PC\\Desktop\\IS362-Project3\\Chinook_Sqlite.sqlite')\n",
    "tracks = pd.read_sql_query(\"SELECT * from Track\", con=con)"
   ]
  },
  {
   "cell_type": "code",
   "execution_count": 5,
   "metadata": {},
   "outputs": [
    {
     "ename": "SyntaxError",
     "evalue": "(unicode error) 'unicodeescape' codec can't decode bytes in position 2-3: truncated \\UXXXXXXXX escape (<ipython-input-5-1a0713256573>, line 13)",
     "output_type": "error",
     "traceback": [
      "\u001b[1;36m  File \u001b[1;32m\"<ipython-input-5-1a0713256573>\"\u001b[1;36m, line \u001b[1;32m13\u001b[0m\n\u001b[1;33m    con = sqlite3.connect(\"C:\\Users\\MATTHEWS-PC\\Desktop\\IS362-Project3\\Chinook_Sqlite.sqlite\")\u001b[0m\n\u001b[1;37m                          ^\u001b[0m\n\u001b[1;31mSyntaxError\u001b[0m\u001b[1;31m:\u001b[0m (unicode error) 'unicodeescape' codec can't decode bytes in position 2-3: truncated \\UXXXXXXXX escape\n"
     ]
    }
   ],
   "source": [
    "sql = '''SELECT c.LastName, c.FirstName, t.Name, a.Title\n",
    "         FROM Customer as c\n",
    "         LEFT JOIN Invoice as i\n",
    "         ON c.CustomerId = i.CustomerId\n",
    "         LEFT JOIN InvoiceLine as il\n",
    "         ON i.InvoiceId = il.InvoiceId\n",
    "         LEFT JOIN Track as t\n",
    "         ON il.TrackId = t.TrackId\n",
    "         LEFT JOIN Album as a\n",
    "         ON t.AlbumId = a.AlbumId\n",
    "         ORDER BY c.LastName, c.FirstName'''\n",
    "\n",
    "con = sqlite3.connect(\"C:\\Users\\MATTHEWS-PC\\Desktop\\IS362-Project3\\Chinook_Sqlite.sqlite\")\n",
    "db = pd.read_sql_query(sql , con=con).head(10)\n",
    "con.close()\n",
    "db"
   ]
  },
  {
   "cell_type": "code",
   "execution_count": null,
   "metadata": {},
   "outputs": [],
   "source": []
  }
 ],
 "metadata": {
  "kernelspec": {
   "display_name": "Python 3",
   "language": "python",
   "name": "python3"
  },
  "language_info": {
   "codemirror_mode": {
    "name": "ipython",
    "version": 3
   },
   "file_extension": ".py",
   "mimetype": "text/x-python",
   "name": "python",
   "nbconvert_exporter": "python",
   "pygments_lexer": "ipython3",
   "version": "3.8.3"
  }
 },
 "nbformat": 4,
 "nbformat_minor": 4
}
